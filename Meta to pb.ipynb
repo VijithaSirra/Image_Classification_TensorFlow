{
 "cells": [
  {
   "cell_type": "code",
   "execution_count": null,
   "metadata": {},
   "outputs": [],
   "source": [
    "import tensorflow as tf"
   ]
  },
  {
   "cell_type": "code",
   "execution_count": null,
   "metadata": {},
   "outputs": [],
   "source": [
    "meta_path = \"./Dogs_vs_Cats_Model/TF_Model.meta\" # Your .meta file\n",
    "output_node_names = ['output_tensor']    # Output nodes\n",
    "\n",
    "sess =  tf.Session() #as sess:\n",
    "# Restore the graph\n",
    "saver = tf.train.import_meta_graph(meta_path)\n",
    "\n",
    "# Load weights\n",
    "saver.restore(sess,tf.train.latest_checkpoint('./Dogs_vs_Cats_Model'))\n",
    "\n",
    "# Freeze the graph\n",
    "frozen_graph_def = tf.graph_util.convert_variables_to_constants(\n",
    "    sess,\n",
    "    sess.graph_def,\n",
    "    output_node_names)\n",
    "\n",
    "# Save the frozen graph\n",
    "with open('output_graph.pb', 'wb') as f:\n",
    "    f.write(frozen_graph_def.SerializeToString())"
   ]
  },
  {
   "cell_type": "code",
   "execution_count": null,
   "metadata": {},
   "outputs": [],
   "source": [
    "[n.name for n in tf.get_default_graph().as_graph_def().node]"
   ]
  }
 ],
 "metadata": {
  "kernelspec": {
   "display_name": "Python 3",
   "language": "python",
   "name": "python3"
  },
  "language_info": {
   "codemirror_mode": {
    "name": "ipython",
    "version": 3
   },
   "file_extension": ".py",
   "mimetype": "text/x-python",
   "name": "python",
   "nbconvert_exporter": "python",
   "pygments_lexer": "ipython3",
   "version": "3.6.9"
  }
 },
 "nbformat": 4,
 "nbformat_minor": 4
}
