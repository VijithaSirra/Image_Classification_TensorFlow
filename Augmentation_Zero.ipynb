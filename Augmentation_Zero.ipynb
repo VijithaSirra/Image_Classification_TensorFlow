{
 "cells": [
  {
   "cell_type": "code",
   "execution_count": 1,
   "metadata": {},
   "outputs": [],
   "source": [
    "folder = \"/home/grace/Documents/Mnist_DataSet/trainingSet/0/\"\n",
    "path   = \"/home/grace/Documents/Mnist_DataSet/Augmentation_Of_Zero/\""
   ]
  },
  {
   "cell_type": "code",
   "execution_count": 2,
   "metadata": {},
   "outputs": [],
   "source": [
    "import os\n",
    "import cv2\n",
    "import matplotlib.pyplot as plt\n",
    "from scipy import ndimage"
   ]
  },
  {
   "cell_type": "code",
   "execution_count": 3,
   "metadata": {},
   "outputs": [],
   "source": [
    "aug_folder = \"Augmentation_Of_Zero\"\n",
    "file = open(\"Aug_Zero_labels.txt\",\"w\")\n",
    "folder1 = \"/home/grace/Documents/Mnist_DataSet/\"\n",
    "i = 1\n",
    "for filename in os.listdir(folder):\n",
    "    \n",
    "    ## Reading Image\n",
    "    \n",
    "    img = cv2.imread(os.path.join(folder,filename))\n",
    "    \n",
    "    ## Increasing and Decreasing image brightness by 50\n",
    "    \n",
    "    hsv = cv2.cvtColor(img, cv2.COLOR_BGR2HSV) \n",
    "    h, s, v = cv2.split(hsv)\n",
    "    v += 50\n",
    "    v2 = v - 100\n",
    "    final_hsv1 = cv2.merge((h, s, v))\n",
    "    final_hsv2 = cv2.merge((h, s, v2))\n",
    "    inc_brightness = cv2.cvtColor(final_hsv1, cv2.COLOR_HSV2BGR)\n",
    "    dec_brightness = cv2.cvtColor(final_hsv2, cv2.COLOR_HSV2BGR)\n",
    "    \n",
    "    ## Changing Image angle clockwise and anti clockwise by 5\n",
    "    \n",
    "    clockwise = ndimage.rotate(img, 5)\n",
    "    anti_clockwise = ndimage.rotate(img, -5)\n",
    "    \n",
    "    # Flipping image horizontally can call it as horizontaal mirror image\n",
    "    \n",
    "    mirror = cv2.flip(img, 1)\n",
    "    \n",
    "    ## saving all modified images into one folder for further use\n",
    "\n",
    "    cv2.imwrite(aug_folder + \"/\" + \"inc_brig\" + str(i) +\".jpg\", inc_brightness)\n",
    "    file.write(folder1  + aug_folder + \"/\"  + \"inc_brig\" + str(i) +\".jpg \" + folder.split(\"/\")[6]+\"\\n\")\n",
    "    cv2.imwrite(aug_folder + \"/\" + \"dec_brig\" + str(i) +\".jpg\", dec_brightness)\n",
    "    file.write(folder1  + aug_folder + \"/\"  + \"dec_brig\" + str(i) +\".jpg \" + folder.split(\"/\")[6]+\"\\n\")\n",
    "    cv2.imwrite(aug_folder + \"/\" + \"clockwise\" + str(i) +\".jpg\", clockwise)\n",
    "    file.write(folder1  + aug_folder + \"/\"  + \"clockwise\" + str(i) +\".jpg \" + folder.split(\"/\")[6]+\"\\n\")\n",
    "    cv2.imwrite(aug_folder + \"/\" + \"anti_clockwise\" + str(i) +\".jpg\", anti_clockwise)\n",
    "    file.write(folder1  + aug_folder + \"/\"  + \"anti_clockwise\" + str(i) +\".jpg \" + folder.split(\"/\")[6]+\"\\n\")\n",
    "    cv2.imwrite(aug_folder + \"/\" + \"mirror\" + str(i) +\".jpg\", mirror)\n",
    "    file.write(folder1  + aug_folder + \"/\"  + \"mirror\" + str(i) +\".jpg \" + folder.split(\"/\")[6]+\"\\n\")\n",
    "\n",
    "    i = i + 1\n",
    "file.close()"
   ]
  }
 ],
 "metadata": {
  "kernelspec": {
   "display_name": "Python 3",
   "language": "python",
   "name": "python3"
  },
  "language_info": {
   "codemirror_mode": {
    "name": "ipython",
    "version": 3
   },
   "file_extension": ".py",
   "mimetype": "text/x-python",
   "name": "python",
   "nbconvert_exporter": "python",
   "pygments_lexer": "ipython3",
   "version": "3.6.9"
  }
 },
 "nbformat": 4,
 "nbformat_minor": 4
}
